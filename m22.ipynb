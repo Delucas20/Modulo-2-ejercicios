{
 "cells": [
  {
   "cell_type": "code",
   "execution_count": 5,
   "id": "5819526c",
   "metadata": {},
   "outputs": [
    {
     "name": "stdout",
     "output_type": "stream",
     "text": [
      "La nota media es 6.8\n",
      "El resultado de la operacion es 24.83\n"
     ]
    }
   ],
   "source": [
    "#nota media\n",
    "nota_1 = 9\n",
    "nota_2 = 3\n",
    "nota_3 = 5\n",
    "nota_4 = 7\n",
    "nota_5 = 10\n",
    "nota_media = (nota_1 + nota_2 + nota_3 + nota_4 + nota_5) / 5\n",
    "print(\"La nota media es\", nota_media)\n",
    "import math\n",
    "operacion = 365/14.7\n",
    "redondeado = round(operacion,2)\n",
    "print(\"El resultado de la operacion es\", redondeado)"
   ]
  }
 ],
 "metadata": {
  "kernelspec": {
   "display_name": "Python 3",
   "language": "python",
   "name": "python3"
  },
  "language_info": {
   "codemirror_mode": {
    "name": "ipython",
    "version": 3
   },
   "file_extension": ".py",
   "mimetype": "text/x-python",
   "name": "python",
   "nbconvert_exporter": "python",
   "pygments_lexer": "ipython3",
   "version": "3.13.7"
  }
 },
 "nbformat": 4,
 "nbformat_minor": 5
}
