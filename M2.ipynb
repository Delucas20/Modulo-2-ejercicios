{
 "cells": [
  {
   "cell_type": "code",
   "execution_count": 2,
   "id": "439a5a51",
   "metadata": {},
   "outputs": [
    {
     "name": "stdout",
     "output_type": "stream",
     "text": [
      "<class 'int'>\n",
      "<class 'float'>\n",
      "<class 'str'>\n",
      "<class 'bool'>\n"
     ]
    },
    {
     "data": {
      "text/plain": [
       "'PabloPabloPablo'"
      ]
     },
     "execution_count": 2,
     "metadata": {},
     "output_type": "execute_result"
    }
   ],
   "source": [
    "# Tipos de datos en Python\n",
    "entero = 5\n",
    "print(type(entero))\n",
    "flotante = 3.14\n",
    "print(type(flotante))\n",
    "string = \"Pablo\"\n",
    "print(type(string))\n",
    "booleano = True\n",
    "print(type(booleano))\n",
    "#operaciones con variables de texto\n",
    "nombre = \"Pablo\"\n",
    "apellido = \"de_Lucas\"\n",
    "nombre + apellido\n",
    "nombre + apellido + \".\"\n",
    "nombre *3\n",
    "\n"
   ]
  }
 ],
 "metadata": {
  "kernelspec": {
   "display_name": "Python 3",
   "language": "python",
   "name": "python3"
  },
  "language_info": {
   "codemirror_mode": {
    "name": "ipython",
    "version": 3
   },
   "file_extension": ".py",
   "mimetype": "text/x-python",
   "name": "python",
   "nbconvert_exporter": "python",
   "pygments_lexer": "ipython3",
   "version": "3.13.7"
  }
 },
 "nbformat": 4,
 "nbformat_minor": 5
}
